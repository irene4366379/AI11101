{
  "nbformat": 4,
  "nbformat_minor": 0,
  "metadata": {
    "colab": {
      "name": "2022_05_12_爬蟲JSON.ipynb",
      "provenance": [],
      "collapsed_sections": []
    },
    "kernelspec": {
      "name": "python3",
      "display_name": "Python 3"
    },
    "language_info": {
      "name": "python"
    }
  },
  "cells": [
    {
      "cell_type": "code",
      "execution_count": 1,
      "metadata": {
        "colab": {
          "base_uri": "https://localhost:8080/"
        },
        "id": "nWA2sePSuGFp",
        "outputId": "4c34088d-0834-4ee3-e2ae-dd8218cb6cb5"
      },
      "outputs": [
        {
          "output_type": "stream",
          "name": "stdout",
          "text": [
            "Looking in indexes: https://pypi.org/simple, https://us-python.pkg.dev/colab-wheels/public/simple/\n",
            "Requirement already satisfied: requests in /usr/local/lib/python3.7/dist-packages (2.23.0)\n",
            "Requirement already satisfied: certifi>=2017.4.17 in /usr/local/lib/python3.7/dist-packages (from requests) (2022.5.18.1)\n",
            "Requirement already satisfied: idna<3,>=2.5 in /usr/local/lib/python3.7/dist-packages (from requests) (2.10)\n",
            "Requirement already satisfied: urllib3!=1.25.0,!=1.25.1,<1.26,>=1.21.1 in /usr/local/lib/python3.7/dist-packages (from requests) (1.24.3)\n",
            "Requirement already satisfied: chardet<4,>=3.0.2 in /usr/local/lib/python3.7/dist-packages (from requests) (3.0.4)\n"
          ]
        }
      ],
      "source": [
        "pip install requests"
      ]
    },
    {
      "cell_type": "code",
      "source": [
        "import requests\n",
        "import csv\n",
        "import json\n",
        "import io\n",
        "import prettytable\n",
        "\n",
        "\n",
        "r1 = requests.get(\"https://datacenter.taichung.gov.tw/swagger/OpenData/000e5a5f-0e54-44cc-b2e6-108f19e04eee\",\n",
        "    headers={\"user-agent\":\"Mozilla/5.0 (Windows NT 10.0; Win64; x64) AppleWebKit/537.36 (KHTML, like Gecko) Chrome/100.0.4896.75 Safari/537.36\",\n",
        "        \"referer\":\"http://www.google.com.tw\",\n",
        "        \"cookie\":\"PHPSESSID=l09qkttsnphr0nvooam98spj0t\"},\n",
        "    params={},\n",
        "    data={},)\n",
        "\n",
        "a = json.loads(r1.text)\n",
        "# print(a[1][\"機關\"]) #抓出第一筆的機關\n",
        "# for dd in a:\n",
        "#   print(dd[\"機關\"], dd[\"陳情最多業務項目\"]) #可抓出想要show的資料\n",
        "\n",
        "p1 = prettytable.PrettyTable(list(a[0].keys()), encoding=\"utf-8\") #print(a[0].keys())取出的是特殊格式，要轉成list\n",
        "for dd in a:\n",
        "  p1.add_row(list(dd.values())) #把字典所有的values都抓出來，一樣要轉成list\n",
        "print(p1)\n",
        "\n",
        "\n"
      ],
      "metadata": {
        "colab": {
          "base_uri": "https://localhost:8080/"
        },
        "id": "YF9JdD54uQFB",
        "outputId": "39be0edf-4b06-4ac1-94a0-6455d1705ee3"
      },
      "execution_count": 5,
      "outputs": [
        {
          "output_type": "stream",
          "name": "stdout",
          "text": [
            "+------+--------+------------------------+------+--------------------------+\n",
            "| 序號 |  機關  |    陳情最多業務項目    | 件數 | 該業務占排名前十大百分比 |\n",
            "+------+--------+------------------------+------+--------------------------+\n",
            "|  1   | 交通局 |      駕車行為管理      | 318  |          6.81%           |\n",
            "|  2   | 交通局 |      交通設施管理      | 267  |          5.72%           |\n",
            "|  3   | 交通局 |        交通工程        | 264  |          5.65%           |\n",
            "|  4   | 警察局 |        交通違規        | 1611 |          34.50%          |\n",
            "|  5   | 警察局 |     路霸、市容整理     | 297  |          6.36%           |\n",
            "|  6   | 都發局 |      違章建築管理      | 550  |          11.78%          |\n",
            "|  7   | 都發局 |      公寓大廈管理      | 368  |          7.88%           |\n",
            "|  8   | 建設局 | 園道、綠地、行道樹管理 | 440  |          9.42%           |\n",
            "|  9   | 建設局 |   道路、橋樑養護工程   | 270  |          5.78%           |\n",
            "|  10  | 衛生局 |        食品業務        | 284  |          6.08%           |\n",
            "|      |        |                        |      |                          |\n",
            "+------+--------+------------------------+------+--------------------------+\n"
          ]
        }
      ]
    },
    {
      "cell_type": "code",
      "source": [
        "import requests\n",
        "import csv\n",
        "import json\n",
        "import io\n",
        "import prettytable\n",
        "\n",
        "\n",
        "r1 = requests.get(\"https://datacenter.taichung.gov.tw/swagger/OpenData/000e5a5f-0e54-44cc-b2e6-108f19e04eee\",\n",
        "    headers={\"user-agent\":\"Mozilla/5.0 (Windows NT 10.0; Win64; x64) AppleWebKit/537.36 (KHTML, like Gecko) Chrome/100.0.4896.75 Safari/537.36\",\n",
        "        \"referer\":\"http://www.google.com.tw\",\n",
        "        \"cookie\":\"PHPSESSID=l09qkttsnphr0nvooam98spj0t\"},\n",
        "    params={},\n",
        "    data={},)\n",
        "\n",
        "a = json.loads(r1.text)\n",
        "\n",
        "p1 = prettytable.PrettyTable([\"陳情最多業務項目\"], encoding=\"utf-8\") #給標題\n",
        "for dd in a:\n",
        "  p1.add_row( [dd[\"陳情最多業務項目\"]] ) #要是list，因此要用[]把dd那串框起來\n",
        "print(p1)\n",
        "\n",
        "\n"
      ],
      "metadata": {
        "colab": {
          "base_uri": "https://localhost:8080/"
        },
        "id": "Fzbu_QRa440f",
        "outputId": "a31f2b42-f0b2-482b-ee51-8688e56e5685"
      },
      "execution_count": 8,
      "outputs": [
        {
          "output_type": "stream",
          "name": "stdout",
          "text": [
            "+------------------------+\n",
            "|    陳情最多業務項目    |\n",
            "+------------------------+\n",
            "|      駕車行為管理      |\n",
            "|      交通設施管理      |\n",
            "|        交通工程        |\n",
            "|        交通違規        |\n",
            "|     路霸、市容整理     |\n",
            "|      違章建築管理      |\n",
            "|      公寓大廈管理      |\n",
            "| 園道、綠地、行道樹管理 |\n",
            "|   道路、橋樑養護工程   |\n",
            "|        食品業務        |\n",
            "|                        |\n",
            "+------------------------+\n"
          ]
        }
      ]
    }
  ]
}