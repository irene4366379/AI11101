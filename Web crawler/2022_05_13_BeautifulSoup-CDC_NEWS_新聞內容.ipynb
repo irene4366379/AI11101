{
  "nbformat": 4,
  "nbformat_minor": 0,
  "metadata": {
    "colab": {
      "name": "2022-05-13-CDC NEWS-新聞內容.ipynb",
      "provenance": [],
      "collapsed_sections": []
    },
    "kernelspec": {
      "name": "python3",
      "display_name": "Python 3"
    },
    "language_info": {
      "name": "python"
    }
  },
  "cells": [
    {
      "cell_type": "code",
      "execution_count": null,
      "metadata": {
        "colab": {
          "base_uri": "https://localhost:8080/"
        },
        "id": "VmbZVxDeS2vx",
        "outputId": "264c4512-240f-43cf-8d61-9776531aec63"
      },
      "outputs": [
        {
          "output_type": "stream",
          "name": "stdout",
          "text": [
            "Looking in indexes: https://pypi.org/simple, https://us-python.pkg.dev/colab-wheels/public/simple/\n",
            "Requirement already satisfied: BeautifulSoup4 in /usr/local/lib/python3.7/dist-packages (4.6.3)\n"
          ]
        }
      ],
      "source": [
        "!pip install BeautifulSoup4"
      ]
    },
    {
      "cell_type": "code",
      "source": [
        "from bs4 import BeautifulSoup\n",
        "import requests\n",
        "\n",
        "for p in range(1,3,1):\n",
        "  req = requests.get(\"https://www.cdc.gov.tw/Bulletin/List/MmgtpeidAR5Ooai4-fgHzQ\",\n",
        "            headers= {\"user-agent\":\"Mozilla/5.0 (Windows NT 10.0; Win64; x64) AppleWebKit/537.36 (KHTML, like Gecko) Chrome/100.0.4896.75 Safari/537.36\",\n",
        "                  \"cookies\":\"_ga=GA1.3.601568930.1652319989; _gid=GA1.3.53272987.1653718267; __RequestVerificationToken=jhxRpdjn28gjqJiatEqUn7bPMOSW9C5CnTgI6J2zikDLZGohkGO0jr50sKJNnKRa6JMX0tZFgBX-h4lVxBrKXnTU97XguEoD73b17Sg9-Qg1; _gat_gtag_UA_38073643_1=1\",\n",
        "                  \"referer\":\"\"},\n",
        "            params= {\"page\":p},\n",
        "            data={})\n",
        "\n",
        "  p1 = BeautifulSoup(req.text, \"html.parser\")\n",
        "  ret = p1.find_all(\"p\", {\"class\":\"JQdotdotdot\"})\n",
        "  for dd in ret:\n",
        "    print(dd.text)"
      ],
      "metadata": {
        "colab": {
          "base_uri": "https://localhost:8080/"
        },
        "id": "t-4EN6TKS-pL",
        "outputId": "e10ec372-dfd5-466f-b2fa-0c81b2398671"
      },
      "execution_count": 16,
      "outputs": [
        {
          "output_type": "stream",
          "name": "stdout",
          "text": [
            "為保障照顧型機構及弱勢民眾健康，將免費提供該等機構及民眾家用抗原快篩試劑\n",
            "新增80,881例COVID-19確定病例，分別為80,835例本土及46例境外移入\n",
            "指揮中心回應，有關Pfizer-BioNTech COVID-19兒童疫苗分配數量\n",
            "新增94,855例COVID-19確定病例，分別為94,808例本土及47例境外移入\n",
            "為保障0-6歲幼兒健康，將免費提供該等幼兒５劑家用抗原快篩試劑\n",
            "新增81,907例COVID-19確定病例，分別為81,852例本土及55例境外移入\n",
            "指揮中心說明，防範兒童重症風險相關防治作為\n",
            "指揮中心修訂病例定義，民眾使用家用抗原快篩試劑檢測結果陽性，經醫事人員確認即為確診\n",
            "新增89,389例COVID-19確定病例，分別為89,352例本土及37例境外移入\n",
            "65歲以上長者及55歲以上原住民，尚未完成接種疫苗民眾，於6月30日前接種，可免費獲得兩劑單劑型快篩試劑\n",
            "新增82,435例COVID-19確定病例，分別為82,363例本土及72例境外移入\n",
            "兒童疫苗採購量充足，有意願接種者均可順利接種\n",
            "因應疫情發展，調整醫事機構「健保醫療資訊雲端查詢系統」TOCC提示\n",
            "新增66,283例COVID-19確定病例，分別為66,247例本土及36例境外移入\n",
            "新增79,487例COVID-19確定病例，分別為79,441例本土及46例境外移入\n",
            "近期歐美及大洋洲多國爆發猴痘疫情，我國尚無報告病例，將持續監測疫情發展\n",
            "新增84,639例COVID-19確定病例，分別為84,587例本土及52例境外移入\n",
            "守護健康，幸福降臨！520(我愛你)愛滋自我篩檢抽好禮\n",
            "新增85,761例COVID-19確定病例，分別為85,720例本土及41例境外移入\n",
            "新增90,378例COVID-19確定病例，分別為90,331例本土及47例境外移入\n"
          ]
        }
      ]
    },
    {
      "cell_type": "code",
      "source": [
        "from bs4 import BeautifulSoup\n",
        "import requests\n",
        "\n",
        "req1 = requests.get(\"https://www.cdc.gov.tw/Bulletin/List/MmgtpeidAR5Ooai4-fgHzQ\",\n",
        "            headers= {\"user-agent\":\"Mozilla/5.0 (Windows NT 10.0; Win64; x64) AppleWebKit/537.36 (KHTML, like Gecko) Chrome/100.0.4896.75 Safari/537.36\",\n",
        "                  \"cookies\":\"_ga=GA1.3.601568930.1652319989; _gid=GA1.3.53272987.1653718267; __RequestVerificationToken=jhxRpdjn28gjqJiatEqUn7bPMOSW9C5CnTgI6J2zikDLZGohkGO0jr50sKJNnKRa6JMX0tZFgBX-h4lVxBrKXnTU97XguEoD73b17Sg9-Qg1; _gat_gtag_UA_38073643_1=1\",\n",
        "                  \"referer\":\"\"},\n",
        "            params= {\"page\":p},\n",
        "            data={})\n",
        "p2 = BeautifulSoup(req1.text, \"html.parser\")\n",
        "ret1 = p2.find_all(\"div\", {\"class\":\"content-boxes-v3\"})\n",
        "for dd in ret1:\n",
        "  print(dd.find(\"a\").attrs[\"title\"])\n"
      ],
      "metadata": {
        "colab": {
          "base_uri": "https://localhost:8080/"
        },
        "id": "VNN_bCVSgrdC",
        "outputId": "92ccce5e-6630-4b7d-8f6a-3cf9ab8e9a1b"
      },
      "execution_count": null,
      "outputs": [
        {
          "output_type": "stream",
          "name": "stdout",
          "text": [
            "新增61,754例COVID-19確定病例，分別為61,697例本土及57例境外移入\n",
            "今年第一批採購輝瑞兒童劑型疫苗77.76萬劑於今日上午抵臺\n",
            "有關網傳「2年前編列檢驗試劑開發及快篩試劑研發預算2,314萬，成果呢？」之澄清說明\n",
            "新增68,769例COVID-19確定病例，分別為68,732例本土及37例境外移入\n",
            "為降低 COVID-19 感染後中、重症風險，5月16日起開放部分對象接種第一次追加劑滿5個月後，可接種第二次追加劑\n",
            "新增64,041例COVID-19確定病例，分別為63,964例本土及77例境外移入\n",
            "開設學齡前兒童就醫綠色通道，優先照顧兒童\n",
            "有關網傳「防護面罩預算63.9億，快篩預算僅5264萬」之澄清說明\n",
            "自5月14日起，新增居家隔離、自主防疫及居家檢疫3類對象快篩陽性評估管道\n",
            "新增65,011例COVID-19確定病例，分別為64,972例本土及39例境外移入\n"
          ]
        }
      ]
    },
    {
      "cell_type": "markdown",
      "source": [
        "### 抓新聞內容"
      ],
      "metadata": {
        "id": "PGeAILC5n5qv"
      }
    },
    {
      "cell_type": "code",
      "source": [
        "from bs4 import BeautifulSoup\n",
        "import requests\n",
        "import codecs\n",
        "\n",
        "fn=0\n",
        "for p in range(1,3,1):\n",
        "  req1 = requests.get(\"https://www.cdc.gov.tw/Bulletin/List/MmgtpeidAR5Ooai4-fgHzQ\",\n",
        "              headers= {\"user-agent\":\"Mozilla/5.0 (Windows NT 10.0; Win64; x64) AppleWebKit/537.36 (KHTML, like Gecko) Chrome/100.0.4896.75 Safari/537.36\",\n",
        "                    \"cookies\":\"\",\n",
        "                    \"referer\":\"\"},\n",
        "              params= {\"page\":p},\n",
        "              data={})\n",
        "  p1 = BeautifulSoup(req1.text, \"html.parser\")\n",
        "  ret1 = p1.find_all(\"div\", {\"class\":\"content-boxes-v3\"})\n",
        "  \n",
        "  for dd in ret1:\n",
        "    #print(dd.find(\"a\").attrs[\"href\"])#省略網域\n",
        "    r2 = requests.get(\"https://www.cdc.gov.tw/\" + dd.find(\"a\").attrs[\"href\"],\n",
        "               headers= {\"user-agent\":\"Mozilla/5.0 (Windows NT 10.0; Win64; x64) AppleWebKit/537.36 (KHTML, like Gecko) Chrome/100.0.4896.75 Safari/537.36\",\n",
        "                    \"cookies\":\"\",\n",
        "                    \"referer\":\"\"},\n",
        "               params= {\"page\":p},\n",
        "               data={})\n",
        "    p2 = BeautifulSoup(r2.text, \"html.parser\")\n",
        "    with codecs.open(\"cdc/\" + str(fn) + \".txt\", \"w\", \"utf-8\") as f:\n",
        "      f.write(dd.find(\"a\").attrs[\"title\"] + \"\\r\\n\\r\\n\")\n",
        "      for dd2 in p2.find(\"div\", {\"class\":\"news-v3-in\"}).find_all(\"div\"):\n",
        "        if \"class\" not in dd2.attrs:\n",
        "          f.write(dd2.text)\n",
        "    fn+=1"
      ],
      "metadata": {
        "colab": {
          "base_uri": "https://localhost:8080/"
        },
        "id": "fs39mOwVn4H-",
        "outputId": "a83bf84f-6d3a-4b49-9337-1b1255a94675"
      },
      "execution_count": 31,
      "outputs": [
        {
          "output_type": "stream",
          "name": "stdout",
          "text": [
            "新增66,283例COVID-19確定病例，分別為66,247例本土及36例境外移入\n",
            "65歲以上長者及55歲以上原住民，尚未完成接種疫苗民眾，於6月30日前接種，可免費獲得兩劑單劑型快篩試劑\n"
          ]
        }
      ]
    },
    {
      "cell_type": "code",
      "source": [
        "!zip -r cdc.zip cdc"
      ],
      "metadata": {
        "colab": {
          "base_uri": "https://localhost:8080/"
        },
        "id": "UBJoUN5M75zp",
        "outputId": "7030541f-a3eb-45a7-e67b-f8b13aa60814"
      },
      "execution_count": 30,
      "outputs": [
        {
          "output_type": "stream",
          "name": "stdout",
          "text": [
            "  adding: cdc/ (stored 0%)\n",
            "  adding: cdc/10.txt (deflated 51%)\n",
            "  adding: cdc/3.txt (deflated 51%)\n",
            "  adding: cdc/9.txt (deflated 45%)\n",
            "  adding: cdc/4.txt (deflated 46%)\n",
            "  adding: cdc/12.txt (deflated 49%)\n",
            "  adding: cdc/15.txt (deflated 40%)\n",
            "  adding: cdc/14.txt (deflated 50%)\n",
            "  adding: cdc/6.txt (deflated 37%)\n",
            "  adding: cdc/8.txt (deflated 51%)\n",
            "  adding: cdc/18.txt (deflated 50%)\n",
            "  adding: cdc/2.txt (deflated 39%)\n",
            "  adding: cdc/7.txt (deflated 45%)\n",
            "  adding: cdc/0.txt (deflated 50%)\n",
            "  adding: cdc/1.txt (deflated 51%)\n",
            "  adding: cdc/19.txt (deflated 51%)\n",
            "  adding: cdc/13.txt (deflated 51%)\n",
            "  adding: cdc/5.txt (deflated 51%)\n",
            "  adding: cdc/17.txt (deflated 44%)\n",
            "  adding: cdc/11.txt (deflated 43%)\n",
            "  adding: cdc/16.txt (deflated 50%)\n"
          ]
        }
      ]
    }
  ]
}