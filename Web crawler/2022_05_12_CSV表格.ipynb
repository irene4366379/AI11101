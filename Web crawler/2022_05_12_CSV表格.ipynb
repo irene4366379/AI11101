{
  "nbformat": 4,
  "nbformat_minor": 0,
  "metadata": {
    "colab": {
      "name": "2022-05-12-爬蟲表格.ipynb",
      "provenance": []
    },
    "kernelspec": {
      "name": "python3",
      "display_name": "Python 3"
    },
    "language_info": {
      "name": "python"
    }
  },
  "cells": [
    {
      "cell_type": "code",
      "execution_count": 8,
      "metadata": {
        "colab": {
          "base_uri": "https://localhost:8080/"
        },
        "id": "0oqkrpqMaHVj",
        "outputId": "85322338-3c37-4087-c67d-e0814b665036"
      },
      "outputs": [
        {
          "output_type": "stream",
          "name": "stdout",
          "text": [
            "+-------------------------------------+--------+---+----------+--------+\n",
            "| A                                   |   B    | C |    D     |   E    |\n",
            "+-------------------------------------+--------+---+----------+--------+\n",
            "| ﻿網址：http://teaching.bo-yuan.net/ |        |   |          |        |\n",
            "|                                     |        |   |          |        |\n",
            "| 帳號                                |  密碼  |   |   帳號   |  密碼  |\n",
            "| 01戴元駿                            | ecbcc0 |   | 16蔡宛臻 | ed70b5 |\n",
            "| 02戴宜宏                            | eccaca |   | 17吳聖強 | ee3f32 |\n",
            "| 03陳怡君                            | ecd740 |   | 18劉佳靜 | ee5920 |\n",
            "| 04謝明峯                            | ece297 |   | 19陳卉雯 | ee6531 |\n",
            "| 05黃正皓                            | eced9d |   | 20王憲德 | ee6c29 |\n",
            "| 06游政韋                            | ecf87f |   |  21湯偉  | ee7419 |\n",
            "| 07陳宇                              | ed029b |   | 22王崧亦 | ee7dc5 |\n",
            "| 08黃俊偉                            | ed0ae2 |   | 23沈昱辰 | ee893c |\n",
            "| 09陳宜君                            | ed1617 |   | 24陳志傑 | ee9139 |\n",
            "| 10李樂天                            | ed2006 |   | 25謝於佑 | ee9ddf |\n",
            "| 11袁約拿                            | ed29a4 |   | 26鄭翔駿 | eea914 |\n",
            "| 12楊政修                            | ed33ab |   | 27林哲瀚 | eeb37c |\n",
            "| 13黃昱仁                            | ed4062 |   | 28洪思寧 | eec041 |\n",
            "| 14陳語鈴                            | ed5812 |   | 29張豐榮 | eeca21 |\n",
            "| 15阮晟堯                            | ed6382 |   | 30陳素柔 | eed58a |\n",
            "+-------------------------------------+--------+---+----------+--------+\n"
          ]
        }
      ],
      "source": [
        "import csv\n",
        "import codecs\n",
        "import prettytable\n",
        "\n",
        "p1 = prettytable.PrettyTable([\"A\", \"B\", \"C\", \"D\", \"E\"], encoding=\"utf-8\")\n",
        "p1.align[\"A\"] = \"l\"\n",
        "with codecs.open(\"student.csv\", \"r\", \"utf-8\") as f:\n",
        "  ret = list(csv.reader(f))\n",
        "  for dd in ret:\n",
        "    p1.add_row([dd[0], dd[1], dd[2], dd[3], dd[4]])\n",
        "print(p1)"
      ]
    }
  ]
}