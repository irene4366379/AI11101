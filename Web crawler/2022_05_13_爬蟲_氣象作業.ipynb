{
  "nbformat": 4,
  "nbformat_minor": 0,
  "metadata": {
    "colab": {
      "name": "2022-05-13-爬蟲-氣象作業.ipynb",
      "provenance": [],
      "collapsed_sections": []
    },
    "kernelspec": {
      "name": "python3",
      "display_name": "Python 3"
    },
    "language_info": {
      "name": "python"
    }
  },
  "cells": [
    {
      "cell_type": "code",
      "source": [
        "!pip install BeautifulSoup4\n",
        "!pip install prettytable"
      ],
      "metadata": {
        "colab": {
          "base_uri": "https://localhost:8080/"
        },
        "id": "s5JOLzLYqEFp",
        "outputId": "c7fc4568-9f74-4fe3-a1b7-d1afafe4a1e0"
      },
      "execution_count": 1,
      "outputs": [
        {
          "output_type": "stream",
          "name": "stdout",
          "text": [
            "Looking in indexes: https://pypi.org/simple, https://us-python.pkg.dev/colab-wheels/public/simple/\n",
            "Requirement already satisfied: BeautifulSoup4 in /usr/local/lib/python3.7/dist-packages (4.6.3)\n",
            "Looking in indexes: https://pypi.org/simple, https://us-python.pkg.dev/colab-wheels/public/simple/\n",
            "Requirement already satisfied: prettytable in /usr/local/lib/python3.7/dist-packages (3.3.0)\n",
            "Requirement already satisfied: importlib-metadata in /usr/local/lib/python3.7/dist-packages (from prettytable) (4.11.3)\n",
            "Requirement already satisfied: wcwidth in /usr/local/lib/python3.7/dist-packages (from prettytable) (0.2.5)\n",
            "Requirement already satisfied: typing-extensions>=3.6.4 in /usr/local/lib/python3.7/dist-packages (from importlib-metadata->prettytable) (4.2.0)\n",
            "Requirement already satisfied: zipp>=0.5 in /usr/local/lib/python3.7/dist-packages (from importlib-metadata->prettytable) (3.8.0)\n"
          ]
        }
      ]
    },
    {
      "cell_type": "code",
      "execution_count": 28,
      "metadata": {
        "colab": {
          "base_uri": "https://localhost:8080/"
        },
        "id": "A_w4jjgJoERi",
        "outputId": "ed6df73b-f8aa-4ca4-c9bd-76e954a7417f"
      },
      "outputs": [
        {
          "output_type": "stream",
          "name": "stdout",
          "text": [
            "+----------+----------+\n",
            "| ['地區'] | ['氣溫'] |\n",
            "+----------+----------+\n",
            "|  基隆市  |   25.6   |\n",
            "|  臺北市  |   26.8   |\n",
            "|  新北市  |   28.2   |\n",
            "|  桃園市  |   26.8   |\n",
            "|  新竹市  |   27.0   |\n",
            "|  新竹縣  |   26.7   |\n",
            "|  苗栗縣  |   27.6   |\n",
            "|  臺中市  |   27.8   |\n",
            "|  彰化縣  |   27.6   |\n",
            "|  南投縣  |   25.8   |\n",
            "|  雲林縣  |   27.4   |\n",
            "|  嘉義市  |   26.7   |\n",
            "|  嘉義縣  |   28.1   |\n",
            "|  臺南市  |   28.6   |\n",
            "|  高雄市  |   29.1   |\n",
            "|  屏東縣  |   28.6   |\n",
            "|  宜蘭縣  |   25.1   |\n",
            "|  花蓮縣  |   26.9   |\n",
            "|  臺東縣  |   28.5   |\n",
            "|  澎湖縣  |   26.4   |\n",
            "|  金門縣  |   25.2   |\n",
            "|  連江縣  |   24.2   |\n",
            "+----------+----------+\n"
          ]
        }
      ],
      "source": [
        "import requests\n",
        "import prettytable\n",
        "import csv\n",
        "from bs4 import BeautifulSoup\n",
        "\n",
        "r1 = requests.get(\"https://www.cwb.gov.tw/V8/C/W/TemperatureTop/County_TMax_T.html\",\n",
        "          headers={\"user-agent\":\"Mozilla/5.0 (Windows NT 10.0; Win64; x64) AppleWebKit/537.36 (KHTML, like Gecko) Chrome/100.0.4896.75 Safari/537.36\",\n",
        "              \"cookie\":\"_gid=GA1.3.695547134.1653757629; TS558d33eb027=08dc4bbcbbab20009985ace0393f48d76cc9eb460e721e4502a9960993e52649da918c6f77fa65ed086abd1248113000d537d5820e818243afe52e6e78197625bff0007e4106cbbfc4eac58192a87f01f50889ccf3b08f8343da1b0346a77fe7; TS010c55bd=0107dddfefca42c46e631175ebeea6ed121290331f60218a52dec3d43db97913ab2ff584a890ec449b1e7181b8f2ac96b9f5cf2041; _ga_K6HENP0XVS=GS1.1.1653757628.2.1.1653757713.0; _ga=GA1.3.1182082877.1652432356\",\n",
        "              \"referer\":\"https://www.cwb.gov.tw/V8/C/W/County_TempTop.html\"},\n",
        "          params={\"ID\":\"Sun%20May%2029%202022%2001:09:47%20GMT+0800%20(%E5%8F%B0%E5%8C%97%E6%A8%99%E6%BA%96%E6%99%82%E9%96%93\"},\n",
        "          data={})\n",
        "p1 = BeautifulSoup(r1.text, \"html.parser\")\n",
        "b1 = p1.find_all(\"th\", {\"scope\":\"row\"})\n",
        "\n",
        "\n",
        "table=prettytable.PrettyTable([[\"地區\"],[\"氣溫\"]])\n",
        "for dd in b1:\n",
        "  table.add_row([(dd.text), (dd.parent.find(\"span\",{\"class\":\"tem-C is-active\"}).text)])\n",
        "print(table)\n"
      ]
    }
  ]
}